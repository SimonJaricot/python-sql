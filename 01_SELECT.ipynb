{
 "cells": [
  {
   "cell_type": "code",
   "execution_count": 1,
   "metadata": {},
   "outputs": [],
   "source": [
    "import duckdb\n",
    "import pandas as pd\n",
    "\n",
    "from pathlib import Path\n",
    "\n",
    "# read parquet file from data directory\n",
    "files = list(Path('data').rglob('*.parquet'))\n",
    "places = pd.read_parquet(files[0]).reset_index()\n",
    "users = pd.read_parquet(files[1]).reset_index()\n",
    "visits = pd.read_parquet(files[2]).reset_index()"
   ]
  },
  {
   "cell_type": "markdown",
   "metadata": {},
   "source": [
    "# SELECT\n",
    "\n",
    "The most prevalent utilisation of SQL is the retrieval of data from a database.  \n",
    "This is achieved through the utilisation of the SELECT command, which returns records in a result table.  \n",
    "This command has the capacity to select one or more columns within a table.\n",
    "\n",
    "Let's try it !"
   ]
  },
  {
   "cell_type": "code",
   "execution_count": 2,
   "metadata": {},
   "outputs": [
    {
     "data": {
      "text/plain": [
       "┌──────────────────────────────────┬───────────┬───────────┬───────────────┬────────────────────┬───────────┐\n",
       "│                id                │   long    │    lat    │     city      │      country       │ continent │\n",
       "│             varchar              │  double   │  double   │    varchar    │      varchar       │  varchar  │\n",
       "├──────────────────────────────────┼───────────┼───────────┼───────────────┼────────────────────┼───────────┤\n",
       "│ f746ae96936d4815a24cc234fa4dcc0e │  37.65639 │   126.835 │ Goyang-si     │ Korea, Republic of │ Asia      │\n",
       "│ 47a67ee50ff24942a8076b14c857dd3b │  55.67938 │  12.53463 │ Frederiksberg │ Denmark            │ Europe    │\n",
       "│ 754c5ef9d155477dacac551f027d40b7 │   0.51667 │ 101.44167 │ Pekanbaru     │ Indonesia          │ Asia      │\n",
       "│ f7f2699231744262ae705606d1c004ed │   13.8196 │ 100.04427 │ Nakhon Pathom │ Thailand           │ Asia      │\n",
       "│ 55fe30a71c7948c9b13f6f070b324141 │  -7.81667 │ 112.01667 │ Kediri        │ Indonesia          │ Asia      │\n",
       "│ 258a1235b21143e59d20b58c63e4c9bd │   3.31332 │ 117.59152 │ Tarakan       │ Indonesia          │ Asia      │\n",
       "│ 99015ab1a6174c1fb7c9e1403578b183 │  65.84811 │  24.14662 │ Tornio        │ Finland            │ Europe    │\n",
       "│ afab44659c5246f182dec038f9d74e04 │  -1.26424 │ 104.09701 │ Simpang       │ Indonesia          │ Asia      │\n",
       "│ 74b080f5a993436d89e5bc4929af01aa │   37.1759 │  128.9889 │ T‚Äôaebaek    │ Korea, Republic of │ Asia      │\n",
       "│ def70d1c812744b392b4a73eefc7808c │   60.2052 │   24.6522 │ Espoo         │ Finland            │ Europe    │\n",
       "│                ·                 │      ·    │      ·    │   ·           │   ·                │   ·       │\n",
       "│                ·                 │      ·    │      ·    │   ·           │   ·                │   ·       │\n",
       "│                ·                 │      ·    │      ·    │   ·           │   ·                │   ·       │\n",
       "│ d84d4c7a7c1547408959008a6516c2a4 │ -21.41222 │ -42.19667 │ Miracema      │ Brazil             │ America   │\n",
       "│ f35b5f0f9f01480d8f449fd8014ed002 │  -19.7625 │ -44.31389 │ Esmeraldas    │ Brazil             │ America   │\n",
       "│ 2175221b3c894ceb85de0a847e8b2f47 │  -7.73379 │ 113.69785 │ Besuki        │ Indonesia          │ Asia      │\n",
       "│ 2fbe7332c2ee44beb869729f3efbe6a7 │  36.82167 │ 128.63083 │ Eisen         │ Korea, Republic of │ Asia      │\n",
       "│ 1f36c95668d8450e8d660e391d31b92e │ -25.42944 │ -50.00639 │ Palmeira      │ Brazil             │ America   │\n",
       "│ d1a9d20144814d3ea1c9d54c731de1f5 │   -7.0981 │  109.3243 │ Randudongkal  │ Indonesia          │ Asia      │\n",
       "│ ed31af2c911b4512a028e056c07464ba │ -12.91667 │    -39.25 │ Muritiba      │ Brazil             │ America   │\n",
       "│ 1e1f66a272e44320b42307a910d4900e │  34.61667 │     135.6 │ Yao           │ Japan              │ Asia      │\n",
       "│ 5976b6a64c8c48319b7c9a21248d6ca6 │  39.46667 │    141.95 │ Yamada        │ Japan              │ Asia      │\n",
       "│ 35eee75e856d4b1faf528dc00ddd23e8 │  -4.24444 │ -42.29444 │ Barras        │ Brazil             │ America   │\n",
       "├──────────────────────────────────┴───────────┴───────────┴───────────────┴────────────────────┴───────────┤\n",
       "│ 71 rows (20 shown)                                                                              6 columns │\n",
       "└───────────────────────────────────────────────────────────────────────────────────────────────────────────┘"
      ]
     },
     "execution_count": 2,
     "metadata": {},
     "output_type": "execute_result"
    }
   ],
   "source": [
    "query = \"\"\"\n",
    "SELECT * FROM places\n",
    "\"\"\"\n",
    "duckdb.sql(query)"
   ]
  },
  {
   "cell_type": "markdown",
   "metadata": {},
   "source": [
    "Wow, there is a lot of records and columns. Let's refine our query to only show city and country and limit to 10 results. "
   ]
  },
  {
   "cell_type": "code",
   "execution_count": 3,
   "metadata": {},
   "outputs": [
    {
     "data": {
      "text/plain": [
       "┌───────────────┬────────────────────┐\n",
       "│     city      │      country       │\n",
       "│    varchar    │      varchar       │\n",
       "├───────────────┼────────────────────┤\n",
       "│ Goyang-si     │ Korea, Republic of │\n",
       "│ Frederiksberg │ Denmark            │\n",
       "│ Pekanbaru     │ Indonesia          │\n",
       "│ Nakhon Pathom │ Thailand           │\n",
       "│ Kediri        │ Indonesia          │\n",
       "│ Tarakan       │ Indonesia          │\n",
       "│ Tornio        │ Finland            │\n",
       "│ Simpang       │ Indonesia          │\n",
       "│ T‚Äôaebaek    │ Korea, Republic of │\n",
       "│ Espoo         │ Finland            │\n",
       "├───────────────┴────────────────────┤\n",
       "│ 10 rows                  2 columns │\n",
       "└────────────────────────────────────┘"
      ]
     },
     "execution_count": 3,
     "metadata": {},
     "output_type": "execute_result"
    }
   ],
   "source": [
    "query = \"\"\"\n",
    "SELECT city, country FROM places LIMIT 10\n",
    "\"\"\"\n",
    "duckdb.sql(query)"
   ]
  },
  {
   "cell_type": "markdown",
   "metadata": {},
   "source": [
    "## Distinct\n",
    "\n",
    "Now, let's show unique countries in our table"
   ]
  },
  {
   "cell_type": "code",
   "execution_count": 4,
   "metadata": {},
   "outputs": [
    {
     "data": {
      "text/plain": [
       "┌────────────────────┐\n",
       "│      country       │\n",
       "│      varchar       │\n",
       "├────────────────────┤\n",
       "│ Thailand           │\n",
       "│ Japan              │\n",
       "│ Sweden             │\n",
       "│ Korea, Republic of │\n",
       "│ Brazil             │\n",
       "│ Norway             │\n",
       "│ Indonesia          │\n",
       "│ Denmark            │\n",
       "│ Finland            │\n",
       "└────────────────────┘"
      ]
     },
     "execution_count": 4,
     "metadata": {},
     "output_type": "execute_result"
    }
   ],
   "source": [
    "query = \"SELECT DISTINCT(country) FROM places\"\n",
    "duckdb.sql(query)"
   ]
  },
  {
   "cell_type": "markdown",
   "metadata": {},
   "source": [
    "## Alias"
   ]
  },
  {
   "cell_type": "code",
   "execution_count": 5,
   "metadata": {},
   "outputs": [
    {
     "data": {
      "text/plain": [
       "┌───────────────────┐\n",
       "│ unique_continents │\n",
       "│      varchar      │\n",
       "├───────────────────┤\n",
       "│ Asia              │\n",
       "│ America           │\n",
       "│ Europe            │\n",
       "└───────────────────┘"
      ]
     },
     "execution_count": 5,
     "metadata": {},
     "output_type": "execute_result"
    }
   ],
   "source": [
    "query = \"SELECT DISTINCT(continent) AS unique_continents FROM places\"\n",
    "duckdb.sql(query)"
   ]
  },
  {
   "cell_type": "markdown",
   "metadata": {},
   "source": [
    "# Limit and Offset"
   ]
  },
  {
   "cell_type": "code",
   "execution_count": 26,
   "metadata": {},
   "outputs": [
    {
     "data": {
      "text/plain": [
       "┌──────────────────────────────────┬───────────┬───────────┬────────────────┬────────────────────┬───────────┐\n",
       "│                id                │   long    │    lat    │      city      │      country       │ continent │\n",
       "│             varchar              │  double   │  double   │    varchar     │      varchar       │  varchar  │\n",
       "├──────────────────────────────────┼───────────┼───────────┼────────────────┼────────────────────┼───────────┤\n",
       "│ f746ae96936d4815a24cc234fa4dcc0e │  37.65639 │   126.835 │ Goyang-si      │ Korea, Republic of │ Asia      │\n",
       "│ 47a67ee50ff24942a8076b14c857dd3b │  55.67938 │  12.53463 │ Frederiksberg  │ Denmark            │ Europe    │\n",
       "│ 754c5ef9d155477dacac551f027d40b7 │   0.51667 │ 101.44167 │ Pekanbaru      │ Indonesia          │ Asia      │\n",
       "│ f7f2699231744262ae705606d1c004ed │   13.8196 │ 100.04427 │ Nakhon Pathom  │ Thailand           │ Asia      │\n",
       "│ 55fe30a71c7948c9b13f6f070b324141 │  -7.81667 │ 112.01667 │ Kediri         │ Indonesia          │ Asia      │\n",
       "│ 258a1235b21143e59d20b58c63e4c9bd │   3.31332 │ 117.59152 │ Tarakan        │ Indonesia          │ Asia      │\n",
       "│ 99015ab1a6174c1fb7c9e1403578b183 │  65.84811 │  24.14662 │ Tornio         │ Finland            │ Europe    │\n",
       "│ afab44659c5246f182dec038f9d74e04 │  -1.26424 │ 104.09701 │ Simpang        │ Indonesia          │ Asia      │\n",
       "│ 74b080f5a993436d89e5bc4929af01aa │   37.1759 │  128.9889 │ T‚Äôaebaek     │ Korea, Republic of │ Asia      │\n",
       "│ def70d1c812744b392b4a73eefc7808c │   60.2052 │   24.6522 │ Espoo          │ Finland            │ Europe    │\n",
       "│ 7c098f9b599e407b87a3fd2ebb34a485 │  15.79408 │  104.1451 │ Yasothon       │ Thailand           │ Asia      │\n",
       "│ 4ff27b1e485e460d8e3cd5c30d0b55c9 │  60.18427 │  24.95034 │ Kallio         │ Finland            │ Europe    │\n",
       "│ dcbb9e8f015d46e7a539e118f6226630 │ -25.42778 │ -49.27306 │ Curitiba       │ Brazil             │ America   │\n",
       "│ f4d524a914734fd490d1ee3de649b57b │  36.20389 │ 127.08472 │ Nonsan         │ Korea, Republic of │ Asia      │\n",
       "│ 0f93c3b1249b48d2acaca0886a26d838 │ -17.74431 │ -48.62789 │ Caldas Novas   │ Brazil             │ America   │\n",
       "│ 7e89c5816b124df0a12536cea93d227c │ -28.44917 │     -52.2 │ Marau          │ Brazil             │ America   │\n",
       "│ 41a08386b0cc429e8ebf5e5fd27a2be7 │  35.30889 │ 139.55028 │ Kamakura       │ Japan              │ Asia      │\n",
       "│ 7cf9a7dd9d71444ab088969888735b37 │  -8.66667 │ -35.71667 │ Catende        │ Brazil             │ America   │\n",
       "│ 309f134460444786bde124b9b1f7824f │  -29.2975 │ -51.50361 │ Carlos Barbosa │ Brazil             │ America   │\n",
       "│ 6147c6a4f94047ddaaaedbeffed57f09 │  41.77583 │ 140.73667 │ Hakodate       │ Japan              │ Asia      │\n",
       "├──────────────────────────────────┴───────────┴───────────┴────────────────┴────────────────────┴───────────┤\n",
       "│ 20 rows                                                                                          6 columns │\n",
       "└────────────────────────────────────────────────────────────────────────────────────────────────────────────┘"
      ]
     },
     "execution_count": 26,
     "metadata": {},
     "output_type": "execute_result"
    }
   ],
   "source": [
    "query = \"SELECT * FROM places LIMIT 20\"\n",
    "duckdb.sql(query)"
   ]
  },
  {
   "cell_type": "code",
   "execution_count": 27,
   "metadata": {},
   "outputs": [
    {
     "data": {
      "text/plain": [
       "┌──────────────────────────────────┬──────────┬───────────┬───────────────┬────────────────────┬───────────┐\n",
       "│                id                │   long   │    lat    │     city      │      country       │ continent │\n",
       "│             varchar              │  double  │  double   │    varchar    │      varchar       │  varchar  │\n",
       "├──────────────────────────────────┼──────────┼───────────┼───────────────┼────────────────────┼───────────┤\n",
       "│ f746ae96936d4815a24cc234fa4dcc0e │ 37.65639 │   126.835 │ Goyang-si     │ Korea, Republic of │ Asia      │\n",
       "│ 47a67ee50ff24942a8076b14c857dd3b │ 55.67938 │  12.53463 │ Frederiksberg │ Denmark            │ Europe    │\n",
       "│ 754c5ef9d155477dacac551f027d40b7 │  0.51667 │ 101.44167 │ Pekanbaru     │ Indonesia          │ Asia      │\n",
       "│ f7f2699231744262ae705606d1c004ed │  13.8196 │ 100.04427 │ Nakhon Pathom │ Thailand           │ Asia      │\n",
       "│ 55fe30a71c7948c9b13f6f070b324141 │ -7.81667 │ 112.01667 │ Kediri        │ Indonesia          │ Asia      │\n",
       "└──────────────────────────────────┴──────────┴───────────┴───────────────┴────────────────────┴───────────┘"
      ]
     },
     "execution_count": 27,
     "metadata": {},
     "output_type": "execute_result"
    }
   ],
   "source": [
    "query = \"SELECT * FROM places LIMIT 5\"\n",
    "duckdb.sql(query)"
   ]
  },
  {
   "cell_type": "code",
   "execution_count": 30,
   "metadata": {},
   "outputs": [
    {
     "data": {
      "text/plain": [
       "┌──────────────────────────────────┬──────────┬───────────┬───────────────┬───────────┬───────────┐\n",
       "│                id                │   long   │    lat    │     city      │  country  │ continent │\n",
       "│             varchar              │  double  │  double   │    varchar    │  varchar  │  varchar  │\n",
       "├──────────────────────────────────┼──────────┼───────────┼───────────────┼───────────┼───────────┤\n",
       "│ f7f2699231744262ae705606d1c004ed │  13.8196 │ 100.04427 │ Nakhon Pathom │ Thailand  │ Asia      │\n",
       "│ 55fe30a71c7948c9b13f6f070b324141 │ -7.81667 │ 112.01667 │ Kediri        │ Indonesia │ Asia      │\n",
       "│ 258a1235b21143e59d20b58c63e4c9bd │  3.31332 │ 117.59152 │ Tarakan       │ Indonesia │ Asia      │\n",
       "│ 99015ab1a6174c1fb7c9e1403578b183 │ 65.84811 │  24.14662 │ Tornio        │ Finland   │ Europe    │\n",
       "│ afab44659c5246f182dec038f9d74e04 │ -1.26424 │ 104.09701 │ Simpang       │ Indonesia │ Asia      │\n",
       "└──────────────────────────────────┴──────────┴───────────┴───────────────┴───────────┴───────────┘"
      ]
     },
     "execution_count": 30,
     "metadata": {},
     "output_type": "execute_result"
    }
   ],
   "source": [
    "query = \"SELECT * FROM places OFFSET 3 LIMIT 5\"\n",
    "duckdb.sql(query)"
   ]
  },
  {
   "cell_type": "code",
   "execution_count": null,
   "metadata": {},
   "outputs": [],
   "source": []
  }
 ],
 "metadata": {
  "kernelspec": {
   "display_name": ".venv",
   "language": "python",
   "name": "python3"
  },
  "language_info": {
   "codemirror_mode": {
    "name": "ipython",
    "version": 3
   },
   "file_extension": ".py",
   "mimetype": "text/x-python",
   "name": "python",
   "nbconvert_exporter": "python",
   "pygments_lexer": "ipython3",
   "version": "3.12.6"
  }
 },
 "nbformat": 4,
 "nbformat_minor": 2
}
